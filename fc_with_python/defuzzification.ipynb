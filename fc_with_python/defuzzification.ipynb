{
 "cells": [
  {
   "cell_type": "code",
   "execution_count": null,
   "metadata": {},
   "outputs": [],
   "source": [
    "# Fuzzy logic calculations are excellent tools, \n",
    "# but to use them the fuzzy result must be converted back into a single number.\n",
    "# This is known as defuzzification.\n",
    "\n",
    "import numpy as np\n",
    "import matplotlib.pyplot as plt\n",
    "import skfuzzy as fuzz"
   ]
  },
  {
   "cell_type": "code",
   "execution_count": null,
   "metadata": {},
   "outputs": [],
   "source": [
    "# Generate trapezoidal membership function on range [0, 1]\n",
    "x = np.arange(0, 5.05, 0.1)\n",
    "mfx = fuzz.trapmf(x, [2, 2.5, 3, 4.5])"
   ]
  },
  {
   "cell_type": "code",
   "execution_count": null,
   "metadata": {},
   "outputs": [],
   "source": [
    "# Defuzzify this membership function five ways\n",
    "defuzz_centroid = fuzz.defuzz(x, mfx, 'centroid')  # Same as skfuzzy.centroid\n",
    "defuzz_bisector = fuzz.defuzz(x, mfx, 'bisector')\n",
    "defuzz_mom = fuzz.defuzz(x, mfx, 'mom')\n",
    "defuzz_som = fuzz.defuzz(x, mfx, 'som')\n",
    "defuzz_lom = fuzz.defuzz(x, mfx, 'lom')"
   ]
  },
  {
   "cell_type": "code",
   "execution_count": null,
   "metadata": {},
   "outputs": [],
   "source": [
    "# Collect info for vertical lines\n",
    "labels = ['centroid', 'bisector', 'mean of maximum', 'min of maximum',\n",
    "          'max of maximum']\n",
    "xvals = [defuzz_centroid,\n",
    "         defuzz_bisector,\n",
    "         defuzz_mom,\n",
    "         defuzz_som,\n",
    "         defuzz_lom]\n",
    "colors = ['r', 'b', 'g', 'c', 'm']\n",
    "ymax = [fuzz.interp_membership(x, mfx, i) for i in xvals]\n",
    "\n",
    "# Display and compare defuzzification results against membership function\n",
    "plt.figure(figsize=(8, 5))\n",
    "\n",
    "plt.plot(x, mfx, 'k')\n",
    "for xv, y, label, color in zip(xvals, ymax, labels, colors):\n",
    "    plt.vlines(xv, 0, y, label=label, color=color)\n",
    "plt.ylabel('Fuzzy membership')\n",
    "plt.xlabel('Universe variable (arb)')\n",
    "plt.ylim(-0.1, 1.1)\n",
    "plt.legend(loc=2)\n",
    "\n",
    "plt.show()"
   ]
  },
  {
   "cell_type": "code",
   "execution_count": null,
   "metadata": {},
   "outputs": [],
   "source": []
  }
 ],
 "metadata": {
  "kernelspec": {
   "display_name": "Python 3 (ipykernel)",
   "language": "python",
   "name": "python3"
  },
  "language_info": {
   "codemirror_mode": {
    "name": "ipython",
    "version": 3
   },
   "file_extension": ".py",
   "mimetype": "text/x-python",
   "name": "python",
   "nbconvert_exporter": "python",
   "pygments_lexer": "ipython3",
   "version": "3.10.5"
  },
  "vscode": {
   "interpreter": {
    "hash": "665e1c0f32cdfcbceb3d57a4dd656f83a1364dd35e2197a22c7f03ca5945dc0c"
   }
  }
 },
 "nbformat": 4,
 "nbformat_minor": 2
}
